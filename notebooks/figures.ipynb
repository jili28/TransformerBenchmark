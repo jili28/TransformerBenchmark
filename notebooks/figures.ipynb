{
 "cells": [
  {
   "cell_type": "code",
   "execution_count": 98,
   "id": "e593a662-bc2b-4df8-923b-68fe00fba51c",
   "metadata": {},
   "outputs": [],
   "source": [
    "import wandb\n",
    "import random\n",
    "\n",
    "from tqdm.auto import tqdm\n",
    "\n",
    "import pandas as pd\n",
    "import numpy as np\n",
    "\n",
    "from matplotlib import pyplot as plt"
   ]
  },
  {
   "cell_type": "code",
   "execution_count": 99,
   "id": "a3a8e00d-86e4-463c-9522-59f389df47ea",
   "metadata": {},
   "outputs": [
    {
     "data": {
      "text/plain": [
       "True"
      ]
     },
     "execution_count": 99,
     "metadata": {},
     "output_type": "execute_result"
    }
   ],
   "source": [
    "api = wandb.Api()\n",
    "wandb.login()"
   ]
  },
  {
   "cell_type": "code",
   "execution_count": 100,
   "id": "f3e3cf36-2942-4e08-8194-961a3dc7c12a",
   "metadata": {},
   "outputs": [],
   "source": [
    "l_runs = [run for run in api.runs(path=\"dyck-benchmark/uncategorized\") if run.state == 'finished']"
   ]
  },
  {
   "cell_type": "code",
   "execution_count": 101,
   "id": "99d99bc5-1363-4928-8055-003e7ed96e9b",
   "metadata": {},
   "outputs": [
    {
     "data": {
      "application/vnd.jupyter.widget-view+json": {
       "model_id": "2ef885b3a8d74150bf6724b65448f10e",
       "version_major": 2,
       "version_minor": 0
      },
      "text/plain": [
       "Loading and extracting config and history from runs:   0%|          | 0/211 [00:00<?, ?it/s]"
      ]
     },
     "metadata": {},
     "output_type": "display_data"
    },
    {
     "data": {
      "text/html": [
       "<div>\n",
       "<style scoped>\n",
       "    .dataframe tbody tr th:only-of-type {\n",
       "        vertical-align: middle;\n",
       "    }\n",
       "\n",
       "    .dataframe tbody tr th {\n",
       "        vertical-align: top;\n",
       "    }\n",
       "\n",
       "    .dataframe thead th {\n",
       "        text-align: right;\n",
       "    }\n",
       "</style>\n",
       "<table border=\"1\" class=\"dataframe\">\n",
       "  <thead>\n",
       "    <tr style=\"text-align: right;\">\n",
       "      <th></th>\n",
       "      <th>M</th>\n",
       "      <th>k</th>\n",
       "      <th>num_heads</th>\n",
       "      <th>num_layers</th>\n",
       "      <th>hidden_size</th>\n",
       "      <th>word_length</th>\n",
       "      <th>test_acc</th>\n",
       "      <th>val_acc</th>\n",
       "    </tr>\n",
       "  </thead>\n",
       "  <tbody>\n",
       "    <tr>\n",
       "      <th>0</th>\n",
       "      <td>1</td>\n",
       "      <td>15</td>\n",
       "      <td>4</td>\n",
       "      <td>5</td>\n",
       "      <td>32</td>\n",
       "      <td>512</td>\n",
       "      <td>0.9685</td>\n",
       "      <td>0.9745</td>\n",
       "    </tr>\n",
       "    <tr>\n",
       "      <th>1</th>\n",
       "      <td>1</td>\n",
       "      <td>15</td>\n",
       "      <td>4</td>\n",
       "      <td>3</td>\n",
       "      <td>32</td>\n",
       "      <td>1024</td>\n",
       "      <td>0.9745</td>\n",
       "      <td>0.9930</td>\n",
       "    </tr>\n",
       "    <tr>\n",
       "      <th>2</th>\n",
       "      <td>1</td>\n",
       "      <td>5</td>\n",
       "      <td>4</td>\n",
       "      <td>5</td>\n",
       "      <td>32</td>\n",
       "      <td>1024</td>\n",
       "      <td>0.9930</td>\n",
       "      <td>0.9980</td>\n",
       "    </tr>\n",
       "    <tr>\n",
       "      <th>3</th>\n",
       "      <td>1</td>\n",
       "      <td>5</td>\n",
       "      <td>4</td>\n",
       "      <td>5</td>\n",
       "      <td>32</td>\n",
       "      <td>512</td>\n",
       "      <td>0.9960</td>\n",
       "      <td>0.9990</td>\n",
       "    </tr>\n",
       "    <tr>\n",
       "      <th>4</th>\n",
       "      <td>1</td>\n",
       "      <td>5</td>\n",
       "      <td>4</td>\n",
       "      <td>5</td>\n",
       "      <td>32</td>\n",
       "      <td>256</td>\n",
       "      <td>0.9890</td>\n",
       "      <td>0.9955</td>\n",
       "    </tr>\n",
       "  </tbody>\n",
       "</table>\n",
       "</div>"
      ],
      "text/plain": [
       "   M   k  num_heads  num_layers  hidden_size  word_length  test_acc  val_acc\n",
       "0  1  15          4           5           32          512    0.9685   0.9745\n",
       "1  1  15          4           3           32         1024    0.9745   0.9930\n",
       "2  1   5          4           5           32         1024    0.9930   0.9980\n",
       "3  1   5          4           5           32          512    0.9960   0.9990\n",
       "4  1   5          4           5           32          256    0.9890   0.9955"
      ]
     },
     "execution_count": 101,
     "metadata": {},
     "output_type": "execute_result"
    }
   ],
   "source": [
    "runs = []\n",
    "\n",
    "for run in tqdm(l_runs, desc=\"Loading and extracting config and history from runs\"):\n",
    "    keys = [\"M\", \"k\", \"num_heads\", \"hidden_size\", \"num_layers\", \"word_length\"]\n",
    "    config = run.config\n",
    "    \n",
    "    if any([key not in config for key in keys]):\n",
    "        continue\n",
    "\n",
    "    summary = {k: int(v) for k, v in run.config.items() if k in keys}\n",
    "    history = run.history()\n",
    "    \n",
    "    # drop irrelevant runs\n",
    "    if summary[\"num_heads\"] != 4:\n",
    "        continue\n",
    "    \n",
    "    if \"Test_accuracy\" not in history or \"Validation_accuracy\" not in history:\n",
    "        continue\n",
    "\n",
    "    summary[\"test_acc\"] = max(history[\"Test_accuracy\"].dropna())\n",
    "    summary[\"val_acc\"] = max(history[\"Validation_accuracy\"].dropna())\n",
    "\n",
    "    runs.append(summary)\n",
    "\n",
    "runs = pd.DataFrame(runs)\n",
    "runs.head()"
   ]
  },
  {
   "cell_type": "code",
   "execution_count": null,
   "id": "0fc1c52e-4327-4bd9-b35f-5d6bbe3ff1fb",
   "metadata": {},
   "outputs": [],
   "source": [
    "from itertools import product\n",
    "\n",
    "M_k_combos = list(product([1, 2, 5], [1, 5, 15]))\n",
    "\n",
    "fig, axs = plt.subplots(3, 3, sharey=True, figsize=(10,10))\n",
    "\n",
    "metric = \"test_acc\"\n",
    "\n",
    "for i, (combo, ax) in enumerate(zip(M_k_combos, axs.flat)):\n",
    "    M, k = combo\n",
    "\n",
    "    df = runs.where((runs[\"M\"].astype(int) == M) & (runs[\"k\"].astype(int) == k)).dropna()\n",
    "    df = df.sort_values([col for col in df.columns])\n",
    "\n",
    "    for i_d, d in enumerate([16, 32, 64]):\n",
    "      df_x = df[df[\"hidden_size\"] == d]\n",
    "      vals_3_256 = vals_3_512 = vals_3_1024 = 0\n",
    "      vals_5_256 = vals_5_512 = vals_5_1024 = 0\n",
    "\n",
    "      # want 6 values per hidden size: namely 3 for every num_layers in [3, 5]\n",
    "      # do num_layers == 3\n",
    "      df_3 = df_x[df_x[\"num_layers\"] == 3.0]\n",
    "      if len(df_3) > 0:\n",
    "          if len(df_3[df_3[\"word_length\"] == 256.0]) > 0:\n",
    "              vals_3_256 = df_3[df[\"word_length\"] == 256.0][metric].tolist()[0]\n",
    "          if len(df_3[df_3[\"word_length\"] == 512.0]) > 0:\n",
    "              vals_3_512 = df_3[df[\"word_length\"] == 512.0][metric].tolist()[0]\n",
    "          if len(df_3[df_3[\"word_length\"] == 1024.0]) > 0:\n",
    "              vals_3_1024 = df_3[df[\"word_length\"] == 1024.0][metric].tolist()[0]\n",
    "\n",
    "      # do num_layers = 5\n",
    "      df_5 = df_x[df_x[\"num_layers\"] == 5.0]\n",
    "      if len(df_5) > 0:\n",
    "          if len(df_5[df[\"word_length\"] == 256.0]) > 0:\n",
    "              vals_5_256 = df_5[df_5[\"word_length\"] == 256.0][metric].tolist()[0]\n",
    "          if len(df_5[df[\"word_length\"] == 512.0]) > 0:\n",
    "              vals_5_512 = df_5[df_5[\"word_length\"] == 512.0][metric].tolist()[0]\n",
    "          if len(df_5[df[\"word_length\"] == 1024.0]) > 0:\n",
    "              vals_5_1024 = df_5[df_5[\"word_length\"] == 1024.0][metric].tolist()[0]\n",
    "\n",
    "      # print(vals_3_256, vals_3_512, vals_3_1024)\n",
    "      # print(vals_5_256, vals_5_512, vals_5_1024)\n",
    "      ax.bar(i_d - 0.3, vals_3_256, 0.1, label='L=3, n=256', color=\"tab:blue\")\n",
    "      ax.bar(i_d - 0.2, vals_3_512, 0.1, label='L=3, n=512', color=\"tab:orange\")\n",
    "      ax.bar(i_d - 0.1, vals_3_1024, 0.1, label='L=3, n=1024', color=\"tab:green\")\n",
    "\n",
    "      ax.bar(i_d + 0.1, vals_5_256, 0.1, label='L=5, n=256', color=\"tab:red\")\n",
    "      ax.bar(i_d + 0.2, vals_5_512, 0.1, label='L=5, n=512', color=\"tab:purple\")\n",
    "      ax.bar(i_d + 0.3, vals_5_1024, 0.1, label='L=5, n=1024', color=\"tab:brown\")\n",
    "    \n",
    "    ax.set_xlim([-1, 3])\n",
    "    ax.set_xticks([0, 1, 2], [\"16\", \"32\", \"64\"])\n",
    "    ax.set_title(f\"M={M} | k={k}\")\n",
    "    \n",
    "    if i == 3:\n",
    "        ax.set_ylabel(metric)\n",
    "    if i == 7:\n",
    "        ax.set_xlabel(\"Hidden Size\")\n",
    "\n",
    "handles, labels = plt.gca().get_legend_handles_labels()\n",
    "by_label = dict(zip(labels, handles))\n",
    "axs.flat[0].legend(by_label.values(), by_label.keys(), loc=\"lower right\")\n",
    "\n",
    "plt.tight_layout()\n",
    "plt.show()"
   ]
  },
  {
   "cell_type": "code",
   "execution_count": 76,
   "id": "38289154-09f4-40e1-95d2-4c6d8f9cf269",
   "metadata": {},
   "outputs": [
    {
     "name": "stdout",
     "output_type": "stream",
     "text": [
      "Plot Dimensions: 46 4\n"
     ]
    }
   ],
   "source": []
  },
  {
   "cell_type": "code",
   "execution_count": null,
   "id": "af169330-2f16-478a-b7a8-5e6bf5eeb2c7",
   "metadata": {},
   "outputs": [],
   "source": []
  }
 ],
 "metadata": {
  "kernelspec": {
   "display_name": "Python 3 (ipykernel)",
   "language": "python",
   "name": "python3"
  },
  "language_info": {
   "codemirror_mode": {
    "name": "ipython",
    "version": 3
   },
   "file_extension": ".py",
   "mimetype": "text/x-python",
   "name": "python",
   "nbconvert_exporter": "python",
   "pygments_lexer": "ipython3",
   "version": "3.10.4"
  }
 },
 "nbformat": 4,
 "nbformat_minor": 5
}
