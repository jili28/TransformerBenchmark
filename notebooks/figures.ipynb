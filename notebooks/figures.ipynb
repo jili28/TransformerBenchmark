{
 "cells": [
  {
   "cell_type": "code",
   "execution_count": 136,
   "id": "e593a662-bc2b-4df8-923b-68fe00fba51c",
   "metadata": {},
   "outputs": [],
   "source": [
    "import wandb\n",
    "import random\n",
    "\n",
    "from tqdm.auto import tqdm\n",
    "\n",
    "import pandas as pd\n",
    "import numpy as np\n",
    "\n",
    "from matplotlib import pyplot as plt"
   ]
  },
  {
   "cell_type": "code",
   "execution_count": 20,
   "id": "a3a8e00d-86e4-463c-9522-59f389df47ea",
   "metadata": {},
   "outputs": [
    {
     "name": "stderr",
     "output_type": "stream",
     "text": [
      "\u001b[34m\u001b[1mwandb\u001b[0m: Currently logged in as: \u001b[33mjarjumarvin\u001b[0m. Use \u001b[1m`wandb login --relogin`\u001b[0m to force relogin\n"
     ]
    },
    {
     "data": {
      "text/plain": [
       "True"
      ]
     },
     "execution_count": 20,
     "metadata": {},
     "output_type": "execute_result"
    }
   ],
   "source": [
    "api = wandb.Api()\n",
    "wandb.login()"
   ]
  },
  {
   "cell_type": "code",
   "execution_count": 61,
   "id": "f3e3cf36-2942-4e08-8194-961a3dc7c12a",
   "metadata": {},
   "outputs": [],
   "source": [
    "l_runs = [run for run in api.runs(path=\"dyck-benchmark/uncategorized\") if run.state == 'finished']"
   ]
  },
  {
   "cell_type": "code",
   "execution_count": 107,
   "id": "99d99bc5-1363-4928-8055-003e7ed96e9b",
   "metadata": {},
   "outputs": [
    {
     "data": {
      "application/vnd.jupyter.widget-view+json": {
       "model_id": "f5ff0ae26d3742c198eb65067a443669",
       "version_major": 2,
       "version_minor": 0
      },
      "text/plain": [
       "Loading and extracting config and history from runs:   0%|          | 0/182 [00:00<?, ?it/s]"
      ]
     },
     "metadata": {},
     "output_type": "display_data"
    },
    {
     "data": {
      "text/html": [
       "<div>\n",
       "<style scoped>\n",
       "    .dataframe tbody tr th:only-of-type {\n",
       "        vertical-align: middle;\n",
       "    }\n",
       "\n",
       "    .dataframe tbody tr th {\n",
       "        vertical-align: top;\n",
       "    }\n",
       "\n",
       "    .dataframe thead th {\n",
       "        text-align: right;\n",
       "    }\n",
       "</style>\n",
       "<table border=\"1\" class=\"dataframe\">\n",
       "  <thead>\n",
       "    <tr style=\"text-align: right;\">\n",
       "      <th></th>\n",
       "      <th>M</th>\n",
       "      <th>k</th>\n",
       "      <th>num_heads</th>\n",
       "      <th>num_layers</th>\n",
       "      <th>hidden_size</th>\n",
       "      <th>word_length</th>\n",
       "      <th>test_acc</th>\n",
       "      <th>val_acc</th>\n",
       "    </tr>\n",
       "  </thead>\n",
       "  <tbody>\n",
       "    <tr>\n",
       "      <th>0</th>\n",
       "      <td>1</td>\n",
       "      <td>15</td>\n",
       "      <td>4</td>\n",
       "      <td>5</td>\n",
       "      <td>16</td>\n",
       "      <td>1024</td>\n",
       "      <td>0.9935</td>\n",
       "      <td>0.9965</td>\n",
       "    </tr>\n",
       "    <tr>\n",
       "      <th>1</th>\n",
       "      <td>1</td>\n",
       "      <td>15</td>\n",
       "      <td>4</td>\n",
       "      <td>5</td>\n",
       "      <td>16</td>\n",
       "      <td>512</td>\n",
       "      <td>0.9955</td>\n",
       "      <td>0.9925</td>\n",
       "    </tr>\n",
       "    <tr>\n",
       "      <th>2</th>\n",
       "      <td>1</td>\n",
       "      <td>15</td>\n",
       "      <td>4</td>\n",
       "      <td>5</td>\n",
       "      <td>16</td>\n",
       "      <td>256</td>\n",
       "      <td>0.9925</td>\n",
       "      <td>0.9995</td>\n",
       "    </tr>\n",
       "    <tr>\n",
       "      <th>3</th>\n",
       "      <td>1</td>\n",
       "      <td>15</td>\n",
       "      <td>4</td>\n",
       "      <td>3</td>\n",
       "      <td>16</td>\n",
       "      <td>1024</td>\n",
       "      <td>0.9870</td>\n",
       "      <td>0.9915</td>\n",
       "    </tr>\n",
       "    <tr>\n",
       "      <th>4</th>\n",
       "      <td>1</td>\n",
       "      <td>15</td>\n",
       "      <td>4</td>\n",
       "      <td>3</td>\n",
       "      <td>16</td>\n",
       "      <td>512</td>\n",
       "      <td>0.9285</td>\n",
       "      <td>0.9890</td>\n",
       "    </tr>\n",
       "  </tbody>\n",
       "</table>\n",
       "</div>"
      ],
      "text/plain": [
       "   M   k  num_heads  num_layers  hidden_size  word_length  test_acc  val_acc\n",
       "0  1  15          4           5           16         1024    0.9935   0.9965\n",
       "1  1  15          4           5           16          512    0.9955   0.9925\n",
       "2  1  15          4           5           16          256    0.9925   0.9995\n",
       "3  1  15          4           3           16         1024    0.9870   0.9915\n",
       "4  1  15          4           3           16          512    0.9285   0.9890"
      ]
     },
     "execution_count": 107,
     "metadata": {},
     "output_type": "execute_result"
    }
   ],
   "source": [
    "runs = []\n",
    "\n",
    "for run in tqdm(l_runs, desc=\"Loading and extracting config and history from runs\"):\n",
    "    keys = [\"M\", \"k\", \"num_heads\", \"hidden_size\", \"num_layers\", \"word_length\"]\n",
    "    config = run.config\n",
    "    \n",
    "    if any([key not in config for key in keys]):\n",
    "        continue\n",
    "\n",
    "    summary = {k: int(v) for k, v in run.config.items() if k in keys}\n",
    "    history = run.history()\n",
    "    \n",
    "    # drop irrelevant runs\n",
    "    if summary[\"num_heads\"] != 4:\n",
    "        continue\n",
    "    \n",
    "    if \"Test_accuracy\" not in history or \"Validation_accuracy\" not in history:\n",
    "        continue\n",
    "\n",
    "    summary[\"test_acc\"] = max(history[\"Test_accuracy\"].dropna())\n",
    "    summary[\"val_acc\"] = max(history[\"Validation_accuracy\"].dropna())\n",
    "\n",
    "    runs.append(summary)\n",
    "\n",
    "runs = pd.DataFrame(runs)\n",
    "runs.head()"
   ]
  },
  {
   "cell_type": "code",
   "execution_count": 166,
   "id": "0fc1c52e-4327-4bd9-b35f-5d6bbe3ff1fb",
   "metadata": {},
   "outputs": [
    {
     "name": "stderr",
     "output_type": "stream",
     "text": [
      "/Users/marvinjarju/anaconda3/envs/ml/lib/python3.7/site-packages/ipykernel_launcher.py:21: UserWarning: Boolean Series key will be reindexed to match DataFrame index.\n",
      "/Users/marvinjarju/anaconda3/envs/ml/lib/python3.7/site-packages/ipykernel_launcher.py:22: UserWarning: Boolean Series key will be reindexed to match DataFrame index.\n",
      "/Users/marvinjarju/anaconda3/envs/ml/lib/python3.7/site-packages/ipykernel_launcher.py:23: UserWarning: Boolean Series key will be reindexed to match DataFrame index.\n",
      "/Users/marvinjarju/anaconda3/envs/ml/lib/python3.7/site-packages/ipykernel_launcher.py:27: UserWarning: Boolean Series key will be reindexed to match DataFrame index.\n",
      "/Users/marvinjarju/anaconda3/envs/ml/lib/python3.7/site-packages/ipykernel_launcher.py:28: UserWarning: Boolean Series key will be reindexed to match DataFrame index.\n",
      "/Users/marvinjarju/anaconda3/envs/ml/lib/python3.7/site-packages/ipykernel_launcher.py:29: UserWarning: Boolean Series key will be reindexed to match DataFrame index.\n",
      "No artists with labels found to put in legend.  Note that artists whose label start with an underscore are ignored when legend() is called with no argument.\n"
     ]
    },
    {
     "data": {
      "image/png": "[encoded data removed]",
      "text/plain": [
       "<Figure size 576x576 with 9 Axes>"
      ]
     },
     "metadata": {
      "needs_background": "light"
     },
     "output_type": "display_data"
    }
   ],
   "source": [
    "from itertools import product\n",
    "\n",
    "M_k_combos = list(product([1, 2, 5], [1, 5, 15]))\n",
    "\n",
    "fig, axs = plt.subplots(3, 3, sharex=True, figsize=(8,8))\n",
    "\n",
    "metric = \"test_acc\"\n",
    "\n",
    "for combo, ax in zip(M_k_combos, axs.flat):\n",
    "    M, k = combo\n",
    "    if M != 2:\n",
    "        continue\n",
    "\n",
    "    df = runs.where((runs[\"M\"].astype(int) == M) & (runs[\"k\"].astype(int) == k)).dropna()\n",
    "    df = df.sort_values([col for col in df.columns])\n",
    "\n",
    "    # want 6 values per hidden size: namely 3 for every num_layers in [3, 5]\n",
    "\n",
    "    # do num_layers == 3\n",
    "    df_3 = df[df[\"num_layers\"] == 3.0]\n",
    "    vals_3_256 = df_3[df[\"word_length\"] == 256.0][metric].tolist()[0]\n",
    "    vals_3_512 = df_3[df[\"word_length\"] == 512.0][metric].tolist()[0]\n",
    "    vals_3_1024 = df_3[df[\"word_length\"] == 1024.0][metric].tolist()[0]\n",
    "    \n",
    "    # do num_layers = 5\n",
    "    df_5 = df[df[\"num_layers\"] == 5.0]\n",
    "    vals_5_256 = df_5[df[\"word_length\"] == 256.0][metric].tolist()[0]\n",
    "    vals_5_512 = df_5[df[\"word_length\"] == 512.0][metric].tolist()[0]\n",
    "    vals_5_1024 = df_5[df[\"word_length\"] == 1024.0][metric].tolist()[0]\n",
    "    \n",
    "    \n",
    "    x = ['16', '32', '64']\n",
    "    \n",
    "    X_axis = np.arange(len(x))\n",
    "    ax.bar(X_axis - 0.3, vals_3_256, 0.1, label='3 Layers', color=\"blue\")\n",
    "    ax.bar(X_axis - 0.2, vals_3_512, 0.1, label='3 Layers', color=\"oragne\")\n",
    "    ax.bar(X_axis - 0.1, vals_3_1024, 0.1, label='3 Layers')\n",
    "\n",
    "    ax.bar(X_axis + 0.1, vals_5_256, 0.1, label='5 Layers')\n",
    "    ax.bar(X_axis + 0.2, vals_5_512, 0.1, label='5 Layers')\n",
    "    ax.bar(X_axis + 0.3, vals_5_1024, 0.1, label='5 Layers')\n",
    "    \n",
    "    ax.set_title(f\"M={M} | k={k}\")\n",
    "    # y256 = vals_3_256[metric].tolist()\n",
    "    # y512 = vals_3_512[metric].tolist()\n",
    "    # y512 = vals_3_512[metric].tolist()\n",
    "    \n",
    "plt.xticks([0, 1, 2], [\"16\", \"32\", \"64\"])\n",
    "plt.tight_layout()\n",
    "plt.legend()\n",
    "plt.show()"
   ]
  },
  {
   "cell_type": "code",
   "execution_count": 76,
   "id": "38289154-09f4-40e1-95d2-4c6d8f9cf269",
   "metadata": {},
   "outputs": [
    {
     "name": "stdout",
     "output_type": "stream",
     "text": [
      "Plot Dimensions: 46 4\n"
     ]
    }
   ],
   "source": []
  },
  {
   "cell_type": "code",
   "execution_count": null,
   "id": "af169330-2f16-478a-b7a8-5e6bf5eeb2c7",
   "metadata": {},
   "outputs": [],
   "source": []
  }
 ],
 "metadata": {
  "kernelspec": {
   "display_name": "Python 3 (ipykernel)",
   "language": "python",
   "name": "python3"
  },
  "language_info": {
   "codemirror_mode": {
    "name": "ipython",
    "version": 3
   },
   "file_extension": ".py",
   "mimetype": "text/x-python",
   "name": "python",
   "nbconvert_exporter": "python",
   "pygments_lexer": "ipython3",
   "version": "3.7.11"
  }
 },
 "nbformat": 4,
 "nbformat_minor": 5
}
